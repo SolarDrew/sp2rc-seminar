{
 "cells": [
  {
   "cell_type": "markdown",
   "metadata": {
    "slideshow": {
     "slide_type": "slide"
    }
   },
   "source": [
    "# Varying Driver Velocity Fields in Photospheric MHD Wave Simulations\n",
    "\n",
    "Andrew Leonard, Stuart Mumford, Viktor Fedun and Robertus Erdélyi"
   ]
  },
  {
   "cell_type": "markdown",
   "metadata": {
    "slideshow": {
     "slide_type": "slide"
    }
   },
   "source": [
    "## Motivation\n",
    "\n",
    "- Vortex motions are observed throughout the photosphere, particularly at intergranular lanes\n",
    "- These vortices have the potential to excite MHD waves in the low atmosphere\n",
    "- Important to understand which waves are produced and how they contribute to heating the atmosphere"
   ]
  },
  {
   "cell_type": "markdown",
   "metadata": {
    "slideshow": {
     "slide_type": "slide"
    }
   },
   "source": [
    "## Sheffield Advanced Code"
   ]
  },
  {
   "cell_type": "markdown",
   "metadata": {},
   "source": [
    "- Built on the Versatile Advection Code (VAC)\n",
    "- Splits the MHD equations into background and perturbed components\n",
    "- Solves only for perturbed variables, background is kept static\n",
    "- Allows significant height stratification"
   ]
  },
  {
   "cell_type": "markdown",
   "metadata": {
    "slideshow": {
     "slide_type": "subslide"
    }
   },
   "source": [
    "## Background atmosphere/initial conditions\n",
    "\n",
    "- Atmosphere consists of self-similar axisymetric flux tube embedded in stratified atmosphere\n",
    "- Density, pressure temperature etc. determined by VAL IIIC model and corrected for forces due to the flux tube"
   ]
  },
  {
   "cell_type": "markdown",
   "metadata": {
    "slideshow": {
     "slide_type": "subslide"
    }
   },
   "source": [
    "![](mfe_setup_Slice_x_density_bg.png)"
   ]
  },
  {
   "cell_type": "markdown",
   "metadata": {
    "slideshow": {
     "slide_type": "slide"
    }
   },
   "source": [
    "## Driver profile\n",
    "\n",
    "- Logarithmic spiral velocity profile\n",
    "- Gaussian spatial distribution\n",
    "- Varies sinusoidally with time\n",
    "- Intended to (roughly) mimic photospheric vortices"
   ]
  },
  {
   "cell_type": "markdown",
   "metadata": {
    "slideshow": {
     "slide_type": "subslide"
    }
   },
   "source": [
    "$v_x =   A \\frac{\\cos(\\theta + \\phi)}{\\sqrt{x^2 + y^2}}\\ G(x, y, z) \\sin \\left(2\\pi \\frac{t}{P}\\right)$\n",
    "\n",
    "$v_y = - A \\frac{\\sin(\\theta + \\phi)}{\\sqrt{x^2 + y^2}}\\ G(x, y, z) \\sin \\left(2\\pi \\frac{t}{P}\\right)$\n",
    "\n",
    "$G(x, y, z) = \\exp\\left(-\\frac{z^2}{\\Delta z^2} - \\frac{x^2}{\\Delta x^2} - \\frac{y^2}{\\Delta y^2}\\right)$"
   ]
  },
  {
   "cell_type": "markdown",
   "metadata": {
    "slideshow": {
     "slide_type": "subslide"
    }
   },
   "source": [
    "![](slog-driver.png)"
   ]
  },
  {
   "cell_type": "markdown",
   "metadata": {
    "slideshow": {
     "slide_type": "slide"
    }
   },
   "source": [
    "### Flux surface analysis\n",
    "\n",
    "- Flux surfaces are constructed by tracing magnetic field lines down from seeds at the top of the domain\n",
    "- We can calculate velocities parallel, perpendicular and azimuthal to the flux surface\n",
    "- Then we calculate the wave energy flux:\n",
    "\n",
    "$F_{wave} = \\tilde p_k v + \\frac{1}{\\mu_0} (B_b \\cdot \\tilde{B}) v - \\frac{1}{\\mu_0} (v \\cdot \\tilde{B}) B_b$\n",
    "\n",
    "<!-- $\\tilde p_k = (\\gamma - 1) (\\tilde e - \\frac{\\rho v^2}{2} - \\frac{B_b \\tilde{B}}{\\mu_0} - \\frac{\\tilde{B}^2}{2 \\mu_0})$ -->\n",
    "\n",
    "- We can also calculate the displacement of the flux surface from its original position at each time-step"
   ]
  },
  {
   "cell_type": "markdown",
   "metadata": {
    "slideshow": {
     "slide_type": "slide"
    }
   },
   "source": [
    "## Results"
   ]
  },
  {
   "cell_type": "markdown",
   "metadata": {
    "slideshow": {
     "slide_type": "subslide"
    }
   },
   "source": [
    "### Velocity magnitude\n",
    "\n",
    "![](velocity_magnitude_w0-15.gif)"
   ]
  },
  {
   "cell_type": "markdown",
   "metadata": {
    "slideshow": {
     "slide_type": "subslide"
    }
   },
   "source": [
    "![](velocity_magnitude_w0-35.gif)"
   ]
  },
  {
   "cell_type": "markdown",
   "metadata": {
    "slideshow": {
     "slide_type": "subslide"
    }
   },
   "source": [
    "### Flux surface displacement\n",
    "\n",
    "![](flux_surface_displacement_side.gif)"
   ]
  },
  {
   "cell_type": "markdown",
   "metadata": {
    "slideshow": {
     "slide_type": "skip"
    }
   },
   "source": [
    "![](Slog_p90-0_4-1_0-35_hslice_h015_t215.png)"
   ]
  },
  {
   "cell_type": "markdown",
   "metadata": {
    "slideshow": {
     "slide_type": "skip"
    }
   },
   "source": [
    "![](Slog_p90-0_4-1_0-35_hslice_h115_t215.png)"
   ]
  },
  {
   "cell_type": "markdown",
   "metadata": {
    "slideshow": {
     "slide_type": "skip"
    }
   },
   "source": [
    "![](Slog_p90-0_4-1_0-35_hslice_h065_t215.png)"
   ]
  },
  {
   "cell_type": "markdown",
   "metadata": {
    "slideshow": {
     "slide_type": "subslide"
    }
   },
   "source": [
    "![](dr-slice-h015.gif)"
   ]
  },
  {
   "cell_type": "markdown",
   "metadata": {
    "slideshow": {
     "slide_type": "subslide"
    }
   },
   "source": [
    "![](dr-slice-h115.gif)"
   ]
  },
  {
   "cell_type": "markdown",
   "metadata": {
    "slideshow": {
     "slide_type": "subslide"
    }
   },
   "source": [
    "![](dr-slice-h065.gif)"
   ]
  },
  {
   "cell_type": "markdown",
   "metadata": {
    "slideshow": {
     "slide_type": "subslide"
    }
   },
   "source": [
    "![](width-flux.png)"
   ]
  }
 ],
 "metadata": {
  "celltoolbar": "Slideshow",
  "kernelspec": {
   "display_name": "Python 3",
   "language": "python",
   "name": "python3"
  },
  "language_info": {
   "codemirror_mode": {
    "name": "ipython",
    "version": 3
   },
   "file_extension": ".py",
   "mimetype": "text/x-python",
   "name": "python",
   "nbconvert_exporter": "python",
   "pygments_lexer": "ipython3",
   "version": "3.5.2"
  }
 },
 "nbformat": 4,
 "nbformat_minor": 0
}
